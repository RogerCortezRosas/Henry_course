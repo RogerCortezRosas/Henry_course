{
 "cells": [
  {
   "cell_type": "code",
   "execution_count": 4,
   "metadata": {},
   "outputs": [],
   "source": [
    "import numpy as np"
   ]
  },
  {
   "cell_type": "markdown",
   "metadata": {},
   "source": [
    "Creacion de numpies"
   ]
  },
  {
   "cell_type": "markdown",
   "metadata": {},
   "source": [
    "A partir de una lista"
   ]
  },
  {
   "cell_type": "code",
   "execution_count": 5,
   "metadata": {},
   "outputs": [
    {
     "name": "stdout",
     "output_type": "stream",
     "text": [
      "[ 1  2  3  4  5  6 67]\n"
     ]
    }
   ],
   "source": [
    "\n",
    "lista = [1,2,3,4,5,6,67]\n",
    "\n",
    "numpyLista = np.array(lista)\n",
    "\n",
    "print(numpyLista)"
   ]
  },
  {
   "cell_type": "markdown",
   "metadata": {},
   "source": [
    "Atraves de un rango"
   ]
  },
  {
   "cell_type": "code",
   "execution_count": 7,
   "metadata": {},
   "outputs": [
    {
     "name": "stdout",
     "output_type": "stream",
     "text": [
      "[0 1 2 3 4 5 6 7 8 9]\n"
     ]
    }
   ],
   "source": [
    "array = np.arange(10)\n",
    "print(array)"
   ]
  },
  {
   "cell_type": "markdown",
   "metadata": {},
   "source": [
    "Operaciones con numpy"
   ]
  },
  {
   "cell_type": "code",
   "execution_count": 9,
   "metadata": {},
   "outputs": [
    {
     "name": "stdout",
     "output_type": "stream",
     "text": [
      "[ 1  2  3  4  5  6  7  8  9 10]\n"
     ]
    }
   ],
   "source": [
    "# Sumar le un 1 a todo el arreglo\n",
    "array = array + 1\n",
    "print(array)"
   ]
  },
  {
   "cell_type": "code",
   "execution_count": 10,
   "metadata": {},
   "outputs": [
    {
     "name": "stdout",
     "output_type": "stream",
     "text": [
      "[  1   4   9  16  25  36  49  64  81 100]\n",
      "[ 1  2  3  4  5  6  7  8  9 10]\n"
     ]
    }
   ],
   "source": [
    "# Elevar al cuadrado todos los elementos\n",
    "array_cuadrado = array**2\n",
    "print(array_cuadrado)\n",
    "print(array) # el elemento array no se ve afectado"
   ]
  },
  {
   "cell_type": "code",
   "execution_count": 11,
   "metadata": {},
   "outputs": [
    {
     "name": "stdout",
     "output_type": "stream",
     "text": [
      "385\n"
     ]
    }
   ],
   "source": [
    "# Sumar todos los elemntos del arreglo\n",
    "\n",
    "print(array_cuadrado.sum())"
   ]
  },
  {
   "cell_type": "code",
   "execution_count": 15,
   "metadata": {},
   "outputs": [
    {
     "name": "stdout",
     "output_type": "stream",
     "text": [
      "[False  True False  True False  True False  True False  True]\n",
      "[ 2  4  6  8 10]\n"
     ]
    }
   ],
   "source": [
    "# Mascara extraer ciertos valores del arreglo que cumplan una condicion\n",
    "\n",
    "mask = array % 2 == 0 \n",
    "array_3 = array[mask]\n",
    "print(mask)\n",
    "print(array_3)"
   ]
  },
  {
   "cell_type": "code",
   "execution_count": 18,
   "metadata": {},
   "outputs": [
    {
     "data": {
      "text/plain": [
       "array([ 1, -1,  3, -1,  5, -1,  7, -1,  9, -1])"
      ]
     },
     "execution_count": 18,
     "metadata": {},
     "output_type": "execute_result"
    }
   ],
   "source": [
    "# Remplasar ciertos valores que cumplanuna condicionpor una letra\n",
    "\n",
    "array[array % 2 == 0] = -1\n",
    "\n",
    "array"
   ]
  },
  {
   "cell_type": "code",
   "execution_count": 20,
   "metadata": {},
   "outputs": [
    {
     "name": "stdout",
     "output_type": "stream",
     "text": [
      "[ 0  1  2  3  4  5  6  7  8  9 10]\n",
      "[-50   1 -50   3 -50   5 -50   7 -50   9 -50]\n"
     ]
    }
   ],
   "source": [
    "#Remplzar valores sin que el aareglo original se vea afectado\n",
    "\n",
    "numeros = np.arange(11)\n",
    "out = np.where(numeros % 2 == 0,-50,numeros)\n",
    "\n",
    "print(numeros)\n",
    "print(out)"
   ]
  },
  {
   "cell_type": "code",
   "execution_count": 27,
   "metadata": {},
   "outputs": [
    {
     "name": "stdout",
     "output_type": "stream",
     "text": [
      "[[ 1  2  3  4  5  6]\n",
      " [ 7  8  9 10 11 12]\n",
      " [13 14 15 16 17 18]]\n",
      "(3, 6)\n"
     ]
    }
   ],
   "source": [
    "arreglo = np.array([[1,2,3,4,5,6],[7,8,9,10,11,12],[13,14,15,16,17,18]])\n",
    "\n",
    "print(arreglo)\n",
    "print(arreglo.shape)\n",
    "\n",
    "\n"
   ]
  },
  {
   "cell_type": "code",
   "execution_count": 32,
   "metadata": {},
   "outputs": [
    {
     "data": {
      "text/plain": [
       "array([[0, 1, 2, 3, 4],\n",
       "       [5, 6, 7, 8, 9]])"
      ]
     },
     "execution_count": 32,
     "metadata": {},
     "output_type": "execute_result"
    }
   ],
   "source": [
    "# Remodelar un arreglo\n",
    "\n",
    "arr = np.arange(10)\n",
    "arr = arr.reshape(2,-1)\n",
    "\n",
    "arr"
   ]
  },
  {
   "cell_type": "code",
   "execution_count": 45,
   "metadata": {},
   "outputs": [
    {
     "name": "stdout",
     "output_type": "stream",
     "text": [
      "[[0 1 2 3 4]\n",
      " [5 6 7 8 9]]\n",
      "\n",
      "[[2 2 2 2 2]\n",
      " [2 2 2 2 2]]\n",
      "\n",
      "[[0 1 2 3 4]\n",
      " [5 6 7 8 9]\n",
      " [2 2 2 2 2]\n",
      " [2 2 2 2 2]]\n"
     ]
    }
   ],
   "source": [
    "# Apilamiento de dos arreglos verticales\n",
    "\n",
    "a = np.arange(10).reshape(2,-1)\n",
    "b = np.repeat(2,10).reshape(2,-1)\n",
    "\n",
    "c = np.vstack([a,b])\n",
    "\n",
    "print(a)\n",
    "print()\n",
    "print(b)\n",
    "print()\n",
    "print(c)\n"
   ]
  },
  {
   "cell_type": "code",
   "execution_count": 46,
   "metadata": {},
   "outputs": [
    {
     "data": {
      "text/plain": [
       "array([[0, 1, 2, 3, 4, 2, 2, 2, 2, 2],\n",
       "       [5, 6, 7, 8, 9, 2, 2, 2, 2, 2]])"
      ]
     },
     "execution_count": 46,
     "metadata": {},
     "output_type": "execute_result"
    }
   ],
   "source": [
    "# Apilamiento de dos arreglos horizontales\n",
    "\n",
    "d = np.hstack([a,b])\n",
    "d"
   ]
  },
  {
   "cell_type": "code",
   "execution_count": 48,
   "metadata": {},
   "outputs": [
    {
     "name": "stdout",
     "output_type": "stream",
     "text": [
      "[1 6 7]\n"
     ]
    }
   ],
   "source": [
    "# Dados dos arreglos obtener los datos que tienen en comun\n",
    "\n",
    "a = np.array([1,2,3,4,5,6,6,7,8]) \n",
    "b = np.array([1,56,7,6,0,6])\n",
    "\n",
    "c = np.intersect1d(a,b)\n",
    "print(c)"
   ]
  },
  {
   "cell_type": "code",
   "execution_count": 50,
   "metadata": {},
   "outputs": [
    {
     "name": "stdout",
     "output_type": "stream",
     "text": [
      "[ 0 56]\n"
     ]
    }
   ],
   "source": [
    "# Como remover de un arreglo aquellos numeros que existen en el otro\n",
    "\n",
    "a = np.array([1,2,3,4,5,6,6,7,8]) \n",
    "b = np.array([1,56,7,6,0,6])\n",
    "\n",
    "c = np.setdiff1d(b,a)# el primer elemnto es el arreglo donde se remueven los numeros\n",
    "\n",
    "print(c)"
   ]
  },
  {
   "cell_type": "code",
   "execution_count": 62,
   "metadata": {},
   "outputs": [
    {
     "name": "stdout",
     "output_type": "stream",
     "text": [
      "(array([1, 3, 5, 7], dtype=int64),)\n"
     ]
    }
   ],
   "source": [
    "# Obtencion de las posiciones de los elemntos donde coinciden\n",
    "a = np.array([1,2,3,2,3,4,3,4,5,6])\n",
    "b = np.array([7,2,10,2,7,4,9,4,9,8])\n",
    "\n",
    "c = np.where(a==b)\n",
    "\n",
    "\n",
    "print(c)"
   ]
  },
  {
   "cell_type": "code",
   "execution_count": 53,
   "metadata": {},
   "outputs": [
    {
     "name": "stdout",
     "output_type": "stream",
     "text": [
      "[ 6  9 10 15 17]\n"
     ]
    }
   ],
   "source": [
    "# Obtencion de numeros dentro de un rango en especifico\n",
    "\n",
    "a = np.array([2,6,1,9,10,3,27,15,17])\n",
    "\n",
    "index = np.where( (a>=5) & (a<=20) )\n",
    "\n",
    "print(a[index])"
   ]
  },
  {
   "cell_type": "code",
   "execution_count": 64,
   "metadata": {},
   "outputs": [
    {
     "data": {
      "text/plain": [
       "array([6, 7, 9, 8, 9, 7, 5])"
      ]
     },
     "execution_count": 64,
     "metadata": {},
     "output_type": "execute_result"
    }
   ],
   "source": [
    "# Como hacer una funcion que maneje escalares para trabajar en numpy\n",
    "\n",
    "def maxx(x,y):\n",
    "\n",
    "    if x >= y:\n",
    "        return x\n",
    "    else:\n",
    "        return y\n",
    "\n",
    "pair_max = np.vectorize(maxx,otypes = [int])#or float or double)\n",
    "\n",
    "\n",
    "a = np.array([5, 7, 9, 8, 6, 4, 5])\n",
    "b = np.array([6, 3, 4, 8, 9, 7, 1])\n",
    "\n",
    "pair_max(a, b)"
   ]
  },
  {
   "cell_type": "code",
   "execution_count": 69,
   "metadata": {},
   "outputs": [
    {
     "name": "stdout",
     "output_type": "stream",
     "text": [
      "[[0 1 2]\n",
      " [3 4 5]\n",
      " [6 7 8]]\n",
      "\n",
      "[[2 1 0]\n",
      " [5 4 3]\n",
      " [8 7 6]]\n"
     ]
    }
   ],
   "source": [
    "# Como intercambiar dos columnas en un arreglo numpy de dos dimensiones\n",
    "\n",
    "arr = np.arange(9).reshape(3,3)\n",
    "print(arr)\n",
    "print()\n",
    "\n",
    "arr = arr [:,[2,1,0]]\n",
    "print(arr)"
   ]
  },
  {
   "cell_type": "code",
   "execution_count": 77,
   "metadata": {},
   "outputs": [
    {
     "name": "stdout",
     "output_type": "stream",
     "text": [
      "[[0 1 2]\n",
      " [3 4 5]\n",
      " [6 7 8]]\n",
      "\n",
      "[[3 4 5]\n",
      " [0 1 2]\n",
      " [6 7 8]]\n"
     ]
    }
   ],
   "source": [
    "# Como intercambiar dos filas en un arreglo numpy de dos dimensiones\n",
    "\n",
    "arr = np.arange(9).reshape(3,3)\n",
    "print(arr)\n",
    "print()\n",
    "\n",
    "arr = arr [[1,0,2],:]\n",
    "print(arr)"
   ]
  },
  {
   "cell_type": "code",
   "execution_count": 79,
   "metadata": {},
   "outputs": [
    {
     "name": "stdout",
     "output_type": "stream",
     "text": [
      "[[0 1 2]\n",
      " [3 4 5]\n",
      " [6 7 8]]\n",
      "\n",
      "[[6 7 8]\n",
      " [3 4 5]\n",
      " [0 1 2]]\n"
     ]
    }
   ],
   "source": [
    "#Como reversar las filas del arreglo\n",
    "\n",
    "arr = np.arange(9).reshape(3,3)\n",
    "print(arr)\n",
    "print()\n",
    "print(arr[::-1])"
   ]
  },
  {
   "cell_type": "code",
   "execution_count": 80,
   "metadata": {},
   "outputs": [
    {
     "name": "stdout",
     "output_type": "stream",
     "text": [
      "[[0 1 2]\n",
      " [3 4 5]\n",
      " [6 7 8]]\n",
      "\n",
      "[[2 1 0]\n",
      " [5 4 3]\n",
      " [8 7 6]]\n"
     ]
    }
   ],
   "source": [
    "#Como reversar las columnas del arreglo\n",
    "\n",
    "arr = np.arange(9).reshape(3,3)\n",
    "print(arr)\n",
    "print()\n",
    "print(arr[:,::-1])"
   ]
  },
  {
   "cell_type": "code",
   "execution_count": 86,
   "metadata": {},
   "outputs": [
    {
     "name": "stdout",
     "output_type": "stream",
     "text": [
      "[[7.34939191 9.7116423  9.35401833]\n",
      " [8.9240811  5.99877567 6.70929343]\n",
      " [9.02502937 5.25693315 6.60424462]\n",
      " [7.53397728 5.84948305 8.18609021]\n",
      " [7.21924429 9.47964312 6.5066653 ]]\n"
     ]
    }
   ],
   "source": [
    "# Creacion de un arreglo 2D que contenga numeros random flotantes entre 5 y 10\n",
    "\n",
    "rand_arr = np.random.uniform(5,10, size=(5,3))\n",
    "print(rand_arr)"
   ]
  },
  {
   "cell_type": "code",
   "execution_count": 130,
   "metadata": {},
   "outputs": [
    {
     "name": "stdout",
     "output_type": "stream",
     "text": [
      "[[7.349 9.712 9.354]\n",
      " [8.924 5.999 6.709]\n",
      " [9.025 5.257 6.604]\n",
      " [7.534 5.849 8.186]\n",
      " [7.219 9.48  6.507]]\n"
     ]
    }
   ],
   "source": [
    "# Como imprimir solo tres decimales enun arreglo \n",
    "# Funcion random solos son numeros del 0 al 1\n",
    "\n",
    "ran_arr = np.random.random([5,3])\n",
    "\n",
    "ran_arr = np.set_printoptions(precision = 3)\n",
    "print(rand_arr[:])\n"
   ]
  },
  {
   "cell_type": "code",
   "execution_count": 132,
   "metadata": {},
   "outputs": [
    {
     "data": {
      "text/plain": [
       "array([[b'5.1', b'3.5', b'1.4', b'0.2', b'Iris-setosa'],\n",
       "       [b'4.9', b'3.0', b'1.4', b'0.2', b'Iris-setosa'],\n",
       "       [b'4.7', b'3.2', b'1.3', b'0.2', b'Iris-setosa'],\n",
       "       [b'4.6', b'3.1', b'1.5', b'0.2', b'Iris-setosa'],\n",
       "       [b'5.0', b'3.6', b'1.4', b'0.2', b'Iris-setosa']], dtype=object)"
      ]
     },
     "execution_count": 132,
     "metadata": {},
     "output_type": "execute_result"
    }
   ],
   "source": [
    "#Comoimportar un dataset con numeros y texto\n",
    "url = 'https://archive.ics.uci.edu/ml/machine-learning-databases/iris/iris.data'\n",
    "iris = np.genfromtxt(url, delimiter=',', dtype='object')\n",
    "names = ('sepallength', 'sepalwidth', 'petallength', 'petalwidth', 'species')\n",
    "\n",
    "iris[:5]\n"
   ]
  }
 ],
 "metadata": {
  "kernelspec": {
   "display_name": "Python 3",
   "language": "python",
   "name": "python3"
  },
  "language_info": {
   "codemirror_mode": {
    "name": "ipython",
    "version": 3
   },
   "file_extension": ".py",
   "mimetype": "text/x-python",
   "name": "python",
   "nbconvert_exporter": "python",
   "pygments_lexer": "ipython3",
   "version": "3.11.5"
  },
  "orig_nbformat": 4
 },
 "nbformat": 4,
 "nbformat_minor": 2
}
