{
 "cells": [
  {
   "cell_type": "code",
   "execution_count": 6,
   "metadata": {},
   "outputs": [],
   "source": [
    "#Creacion de nodo\n",
    "\n",
    "class Nodo:\n",
    "\n",
    "    def __init__ (self,valor):\n",
    "\n",
    "        self.data = valor # informcaion\n",
    "        self.next = None # next almacena la direccion en memoria\n",
    "    \n",
    "    def getData(self):\n",
    "\n",
    "        return self.data\n",
    "    \n",
    "    def setData(self,valor):\n",
    "        self.data = valor\n",
    "\n",
    "    def getNext(self):\n",
    "\n",
    "        return self.next\n",
    "    \n",
    "    def setNext(self,valor):\n",
    "        self.next = valor"
   ]
  },
  {
   "cell_type": "code",
   "execution_count": 5,
   "metadata": {},
   "outputs": [
    {
     "name": "stdout",
     "output_type": "stream",
     "text": [
      "www.Spotify.com\n",
      "<__main__.Nodo object at 0x000001F90EE2F250>\n",
      "<__main__.Nodo object at 0x000001F90EE2F250>\n"
     ]
    }
   ],
   "source": [
    "n1 = Nodo(\"www.Google.com\")\n",
    "n2 = Nodo(\"www.Spotify.com\")\n",
    "n3 = Nodo(\"www.Wikipedia.com\")\n",
    "n4 = Nodo(\"www.youtube.com/Tutoriales de Corey Schafer\")\n",
    "n5 = Nodo(\"www.youtube.com/píldorasinformáticas\")\n",
    "\n",
    "n1.setNext(n2)\n",
    "n2.setNext(n3)\n",
    "n3.setNext(n4)\n",
    "n4.setNext(n5)\n",
    "\n",
    "print(n2.getData())\n",
    "\n",
    "print(n2)\n",
    "print(n1.getNext())\n",
    "\n"
   ]
  },
  {
   "cell_type": "markdown",
   "metadata": {},
   "source": [
    "Lista enlazada"
   ]
  },
  {
   "cell_type": "code",
   "execution_count": 31,
   "metadata": {},
   "outputs": [],
   "source": [
    "class listaEnlazada:\n",
    "\n",
    "    def __init__(self):\n",
    "\n",
    "        self.head = None\n",
    "\n",
    "    def isEmpty ( self ):\n",
    "        \n",
    "        if (self.head == None):\n",
    "            return True\n",
    "        else:\n",
    "            return False\n",
    "    \n",
    "    def add(self,valor):\n",
    "\n",
    "        nodo_nuevo = Nodo(valor)\n",
    "        nodo_nuevo.setNext(self.head)\n",
    "        self.head = nodo_nuevo\n",
    "\n",
    "    def size (self):\n",
    "\n",
    "        count  = 0\n",
    "        current = self.head\n",
    "\n",
    "        while(current!=None):\n",
    "\n",
    "            count+=1\n",
    "            current = current.getNext()\n",
    "        \n",
    "        return count\n",
    "    \n",
    "    def search(self,item):\n",
    "\n",
    "        Apcurrent = self.head # variable apuntador que guarda en memoria la direccion del objeto actual\n",
    "        found = False # Bandera que indica cuando ya se encontro la informacion indicada\n",
    "\n",
    "        while((Apcurrent!=None) and (not found)): # Ciclo que indica que continuara ejecutandose hasta que el apuntador del objeto actual apunte a una direccion vacia , esto nos indica que ya esta en el ultimo elemento y ya nohay mas por que contar.\n",
    "\n",
    "\n",
    "            if Apcurrent.getData() is item: # Nos dice que si el item se encuentra dentro de la data de ese nodo\n",
    "                found = True # Si encontro informacion found decimos que es true \n",
    "            else:\n",
    "                # y si no sigue buscando , poniendo ahora el nodo actual es el nodo que le seguia \n",
    "                Apcurrent = Apcurrent.getNext() # aqui nos dice que al nodo actual ( Apuntador actual) se le va asiganar el Apuntador del siguiente objeto             \n",
    "\n",
    "        return found\n",
    "        \n",
    "    def remove(self,item):\n",
    "\n",
    "        current = self.head \n",
    "        previous = None # Se almacena la direccion en memoria del objeto anterior\n",
    "        found = False # Bandera que se activa cuando ya se encontro al elemento indicado\n",
    "\n",
    "        while((current!=None)and (not found )): # Mientras current sea diferente de nulo y found verdadero\n",
    "\n",
    "            if ( current.getData() == item):\n",
    "                found = True\n",
    "            else:\n",
    "                previous = current # se asigna la direccion del objeto actual que sera el previo al de la siguiente vuelta \n",
    "                current = current.getNext() # Ahora la direccion actual es la que esta siguinete de la actual (Avanzamos un objeto adelante)\n",
    "\n",
    "        if found: # SI se encontro el valor\n",
    "            if(previous == None): # SI es el primer objeto de la lista\n",
    "                self.head = current.getNext()# Se le asigna la direccion del objeto que le sigue\n",
    "            else:\n",
    "                previous.setNext(current.getNext()) # si enconttro el valor y resulta que si hay un objeto previo al actual , al Apuntador previous se le asignara ahora la direccion del objeto que le sigue al objeto actual\n",
    "\n",
    "    def insert (self,posicion,item):\n",
    "\n",
    "        if posicion > self.size() - 1:\n",
    "            raise IndexError\n",
    "        \n",
    "        current  = self.head\n",
    "        previous = None\n",
    "        pos = 0\n",
    "\n",
    "        if posicion == 0 :\n",
    "            self.add(item)\n",
    "        else:\n",
    "            nuevo_nodo = Nodo(item)\n",
    "\n",
    "            while (pos < posicion):\n",
    "                pos += 1\n",
    "                previous = current\n",
    "                current = current.getNext()\n",
    "            \n",
    "            previous.setNext(nuevo_nodo)\n",
    "\n",
    "            nuevo_nodo.setNext(current)\n",
    "\n",
    "\n",
    "\n",
    "\n",
    "    def index (self,item):\n",
    "         \"\"\"\n",
    "        Queremos ver en que indice esta cierto valor que le preguntamos\n",
    "        \"\"\"\n",
    "         current = self.head\n",
    "         pos = 0\n",
    "         found = False\n",
    "\n",
    "         while((current!=None) and (found == False)):\n",
    "             \n",
    "            if ( current.getData() == item):\n",
    "                 found = True\n",
    "            else:\n",
    "                 current = current.getNext()\n",
    "                 pos+=1\n",
    "            \n",
    "            return pos\n",
    "         \n",
    "    def append(self,item):\n",
    "         \"\"\"Le queremos decir que añada un nuevo ítem al final de la lista\"\"\"\n",
    "\n",
    "         current = self.head\n",
    "         previous = None\n",
    "         pos = 0\n",
    "         length = self.size()\n",
    "\n",
    "         while pos < length:\n",
    "             previous = current\n",
    "             current = current.getNext()\n",
    "             pos+=1\n",
    "         \n",
    "         nuevo_nodo = Nodo(item)\n",
    "\n",
    "         if(previous == None):\n",
    "             nuevo_nodo.setNext(current)\n",
    "             self.head = nuevo_nodo\n",
    "         else:\n",
    "             previous.setNext(nuevo_nodo)\n",
    "    \n",
    "    def printList(self):\n",
    "        \"\"\"Print the list\"\"\"\n",
    "        current = self.head # Comenzamos nuestro puntero en el head\n",
    "        while (not(current == None)): # Mientras tengamos algo, imprimimos el current\n",
    "            print(current.getData(),end=\" -> \")\n",
    "            current = current.getNext()\n",
    "        print(\"Null\")\n",
    "    \n",
    "             \n",
    "\n",
    "        "
   ]
  },
  {
   "cell_type": "code",
   "execution_count": 35,
   "metadata": {},
   "outputs": [],
   "source": [
    "lis = listaEnlazada()"
   ]
  },
  {
   "cell_type": "code",
   "execution_count": 27,
   "metadata": {},
   "outputs": [
    {
     "data": {
      "text/plain": [
       "True"
      ]
     },
     "execution_count": 27,
     "metadata": {},
     "output_type": "execute_result"
    }
   ],
   "source": [
    "lis.isEmpty()"
   ]
  },
  {
   "cell_type": "code",
   "execution_count": 37,
   "metadata": {},
   "outputs": [],
   "source": [
    "lis.add('rojo')\n",
    "lis.add('azul')\n",
    "lis.add('blanco')\n",
    "lis.add('verde')"
   ]
  },
  {
   "cell_type": "code",
   "execution_count": 29,
   "metadata": {},
   "outputs": [
    {
     "data": {
      "text/plain": [
       "4"
      ]
     },
     "execution_count": 29,
     "metadata": {},
     "output_type": "execute_result"
    }
   ],
   "source": [
    "lis.size()"
   ]
  },
  {
   "cell_type": "code",
   "execution_count": 38,
   "metadata": {},
   "outputs": [
    {
     "name": "stdout",
     "output_type": "stream",
     "text": [
      "verde -> blanco -> azul -> rojo -> Null\n"
     ]
    }
   ],
   "source": [
    "lis.printList()"
   ]
  },
  {
   "cell_type": "code",
   "execution_count": 43,
   "metadata": {},
   "outputs": [],
   "source": [
    "lis.remove('rojo')"
   ]
  },
  {
   "cell_type": "code",
   "execution_count": null,
   "metadata": {},
   "outputs": [],
   "source": []
  },
  {
   "cell_type": "code",
   "execution_count": 46,
   "metadata": {},
   "outputs": [
    {
     "name": "stdout",
     "output_type": "stream",
     "text": [
      "azul -> verde -> amarillo -> blanco -> Null\n"
     ]
    }
   ],
   "source": [
    "lis.printList()"
   ]
  },
  {
   "cell_type": "code",
   "execution_count": 45,
   "metadata": {},
   "outputs": [],
   "source": [
    "lis.insert(2,'amarillo')"
   ]
  }
 ],
 "metadata": {
  "kernelspec": {
   "display_name": "Python 3",
   "language": "python",
   "name": "python3"
  },
  "language_info": {
   "codemirror_mode": {
    "name": "ipython",
    "version": 3
   },
   "file_extension": ".py",
   "mimetype": "text/x-python",
   "name": "python",
   "nbconvert_exporter": "python",
   "pygments_lexer": "ipython3",
   "version": "3.11.5"
  },
  "orig_nbformat": 4
 },
 "nbformat": 4,
 "nbformat_minor": 2
}
