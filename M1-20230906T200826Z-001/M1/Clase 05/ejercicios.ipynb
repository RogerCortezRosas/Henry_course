{
 "cells": [
  {
   "cell_type": "code",
   "execution_count": 7,
   "metadata": {},
   "outputs": [],
   "source": [
    "import numpy as np\n",
    "\n",
    "class juego:\n",
    "    def __init__(self):\n",
    "        self.__list = []\n",
    "    def crearLista(self):\n",
    "        self.numeros = []\n",
    "        self.numeros = np.arange(1,21)\n",
    "        np.random.shuffle(self.numeros)\n",
    "        self.numeros = list(self.numeros)\n",
    "    \n",
    "    def sumElementos(self,elemnto):\n",
    "        \n",
    "        listSum = []\n",
    "        \n",
    "        for i in range(elemnto):\n",
    "            listSum.append(self.numeros.pop())\n",
    "\n",
    "        serieSuma = np.array(listSum)\n",
    "\n",
    "        return serieSuma.sum()\n",
    "    \n",
    "    def puntaje(self,suma):\n",
    "\n",
    "        calificacion = 10\n",
    "\n",
    "        if suma > 50:\n",
    "            return suma\n",
    "        else:\n",
    "            while(suma<=50):\n",
    "                suma += self.numeros.pop()\n",
    "                calificacion-=1\n",
    "            return calificacion\n",
    "        \n",
    "    def empezarJuego(self):\n",
    "\n",
    "        self.crearLista()\n",
    "\n",
    "        elemento = int(input('Cuantos elementos deseas quitar'))\n",
    "        print(self.numeros)\n",
    "        print()\n",
    "\n",
    "        suma = self.sumElementos(elemento)\n",
    "\n",
    "        if suma > 50:\n",
    "            print('Perdiste tu puntaje fue mayor a 50')\n",
    "        else :\n",
    "            print('Lo lograste , tu puntaje fue de ',suma,' con calificacion de ',self.puntaje(suma))\n",
    "         \n"
   ]
  },
  {
   "cell_type": "code",
   "execution_count": 10,
   "metadata": {},
   "outputs": [
    {
     "name": "stdout",
     "output_type": "stream",
     "text": [
      "[10, 4, 19, 5, 6, 2, 13, 3, 15, 18, 17, 9, 16, 1, 8, 20, 7, 11, 14, 12]\n",
      "\n",
      "Lo lograste , tu puntaje fue de  37  con calificacion de  8\n"
     ]
    }
   ],
   "source": [
    "objeto = juego()\n",
    "objeto.empezarJuego()"
   ]
  },
  {
   "cell_type": "code",
   "execution_count": null,
   "metadata": {},
   "outputs": [],
   "source": []
  }
 ],
 "metadata": {
  "kernelspec": {
   "display_name": "Python 3",
   "language": "python",
   "name": "python3"
  },
  "language_info": {
   "codemirror_mode": {
    "name": "ipython",
    "version": 3
   },
   "file_extension": ".py",
   "mimetype": "text/x-python",
   "name": "python",
   "nbconvert_exporter": "python",
   "pygments_lexer": "ipython3",
   "version": "3.11.5"
  },
  "orig_nbformat": 4
 },
 "nbformat": 4,
 "nbformat_minor": 2
}
